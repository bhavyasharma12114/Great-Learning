#Creating Single dimensional array
import numpy as np

n1=np.array([10,20,30,40])
n1
array([10, 20, 30, 40])
#Creating Multi-Dimensional Array
import numpy as np

n2=np.array([[10,20,30,40],[40,30,20,10]])
n2
array([[10, 20, 30, 40],
       [40, 30, 20, 10]])
type(n2)
numpy.ndarray
#Extracting elements
n1
array([10, 20, 30, 40])
n1[0]
10
n1[1:3]
array([20, 30])
n2
array([[10, 20, 30, 40],
       [40, 30, 20, 10]])
n2[0,0]
10
n2[0]
array([10, 20, 30, 40])
n2[1,3]
10
#np.zeros
import numpy as np
n1=np.zeros((1,2))
n1
array([[0., 0.]])
import numpy as np
n1=np.zeros((5,5))
n1
array([[0., 0., 0., 0., 0.],
       [0., 0., 0., 0., 0.],
       [0., 0., 0., 0., 0.],
       [0., 0., 0., 0., 0.],
       [0., 0., 0., 0., 0.]])
#np.arange
import numpy as np
n1=np.arange(10,20)
n1
array([10, 11, 12, 13, 14, 15, 16, 17, 18, 19])
import numpy as np
n1=np.arange(10,50,5)
n1
array([10, 15, 20, 25, 30, 35, 40, 45])
#np.full
import numpy as np
n1=np.full((2,2),10)
n1
array([[10, 10],
       [10, 10]])
#np.randit
import numpy as np
n1=np.random.randint(1,100,5)
n1
array([80, 75, 49, 71, 49])
n1.shape
(5,)
import numpy as np
n1=np.array([[1,2,3],[4,5,6]])
n1.shape
(2, 3)
#NumPy Shape
n1.shape = (3,2)
n1.shape
(3, 2)
#Numpy Sum
import numpy as np
n1=np.array([10,20])
n2=np.array([30,40])

np.sum([n1,n2])
100
np.sum([n1,n2],axis=0)
array([40, 60])
np.sum([n1,n2],axis=1)
array([30, 70])
#NumPy comparison
import numpy as np
n1=np.array([10,20,30])
n2=np.array([10,30,20])

np.equal(n1,n2)
array([ True, False, False])
import numpy as np
n1=np.array([10,20,30])
n2=np.array([10,30,20])

np.array_equal(n1,n2)
False
#Joining Arrays
import numpy as np
n1=np.array([10,20,30])
n2=np.array([40,50,60])

np.vstack((n1,n2))
array([[10, 20, 30],
       [40, 50, 60]])
import numpy as np
n1=np.array([10,20,30])
n2=np.array([40,50,60])

np.hstack((n1,n2))
array([10, 20, 30, 40, 50, 60])
import numpy as np
n1=np.array([10,20,30])
n2=np.array([40,50,60])

np.column_stack((n1,n2))
array([[10, 40],
       [20, 50],
       [30, 60]])
import numpy as np
n1=np.array([10,20,30])
n1=n1/2
n1
array([ 5., 10., 15.])
n1=n1+1
n1
array([11, 21, 31])
import numpy as np
n1=np.array([10,20,30,40,50,60])
n2=np.array([50,60,70,80,90])
np.intersect1d(n1,n2)
array([50, 60])
np.setdiff1d(n1,n2)
array([10, 20, 30, 40])
#numpy math functions
import numpy as np
n1=np.array([1,5,3,100,4,48])
np.std(n1)
36.59424666377065
