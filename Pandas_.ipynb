
import pandas as pd
s1=pd.Series([1,2,3,4,5])

s1
0    1
1    2
2    3
3    4
4    5
dtype: int64
type(s1)
pandas.core.series.Series

#Changing Index

import pandas as pd
s1=pd.Series([1,2,3,4,5],index=['a','b','c','d','e'])
s1
a    1
b    2
c    3
d    4
e    5
dtype: int64

#Series from dictionary

import pandas as pd
pd.Series({'a':10,'b':20,'c':30})
a    10
b    20
c    30
dtype: int64
import pandas as pd
pd.Series({'a':10,'b':20,'c':30},index=['b','c','d','a'])
b    20.0
c    30.0
d     NaN
a    10.0
dtype: float64
 
 
#Creating a dataframe

import pandas as pd

pd.DataFrame({"Name":['Bob','Sam','Anne'],"Marks":[76,25,92]})
Name	Marks
0	Bob	76
1	Sam	25
2	Anne	92
#Importing dataframe
import pandas as pd

iris=pd.read_csv('iris.csv')
#Having a glance at first 5 rows
iris.head()
Sepal.Length	Sepal.Width	Petal.Length	Petal.Width	Species
0	5.1	3.5	1.4	0.2	setosa
1	4.9	3.0	1.4	0.2	setosa
2	4.7	3.2	1.3	0.2	setosa
3	4.6	3.1	1.5	0.2	setosa
4	5.0	3.6	1.4	0.2	setosa
#Having a glance at last 5 rows
iris.tail()
Sepal.Length	Sepal.Width	Petal.Length	Petal.Width	Species
145	6.7	3.0	5.2	2.3	virginica
146	6.3	2.5	5.0	1.9	virginica
147	6.5	3.0	5.2	2.0	virginica
148	6.2	3.4	5.4	2.3	virginica
149	5.9	3.0	5.1	1.8	virginica
iris.shape
(150, 5)
iris.describe()
Sepal.Length	Sepal.Width	Petal.Length	Petal.Width
count	150.000000	150.000000	150.000000	150.000000
mean	5.843333	3.057333	3.758000	1.199333
std	0.828066	0.435866	1.765298	0.762238
min	4.300000	2.000000	1.000000	0.100000
25%	5.100000	2.800000	1.600000	0.300000
50%	5.800000	3.000000	4.350000	1.300000
75%	6.400000	3.300000	5.100000	1.800000
max	7.900000	4.400000	6.900000	2.500000
#Finding Minimum value
iris.min()
Sepal.Length       4.3
Sepal.Width          2
Petal.Length         1
Petal.Width        0.1
Species         setosa
dtype: object
#Finding Maximum value
iris.max()
Sepal.Length          7.9
Sepal.Width           4.4
Petal.Length          6.9
Petal.Width           2.5
Species         virginica
dtype: object
#loc and iloc
iris.head()
Sepal.Length	Sepal.Width	Petal.Length	Petal.Width	Species
0	5.1	3.5	1.4	0.2	setosa
1	4.9	3.0	1.4	0.2	setosa
2	4.7	3.2	1.3	0.2	setosa
3	4.6	3.1	1.5	0.2	setosa
4	5.0	3.6	1.4	0.2	setosa
iris.iloc[0:3,0:2]
Sepal.Length	Sepal.Width
0	5.1	3.5
1	4.9	3.0
2	4.7	3.2
iris.head()
Sepal.Length	Sepal.Width	Petal.Length	Petal.Width	Species
0	5.1	3.5	1.4	0.2	setosa
1	4.9	3.0	1.4	0.2	setosa
2	4.7	3.2	1.3	0.2	setosa
3	4.6	3.1	1.5	0.2	setosa
4	5.0	3.6	1.4	0.2	setosa
iris.loc[0:3,("Sepal.Length","Petal.Length")]
Sepal.Length	Petal.Length
0	5.1	1.4
1	4.9	1.4
2	4.7	1.3
3	4.6	1.5
import pandas as pd

iris=pd.read_csv('iris.csv')
iris.head()
Sepal.Length	Sepal.Width	Petal.Length	Petal.Width	Species
0	5.1	3.5	1.4	0.2	setosa
1	4.9	3.0	1.4	0.2	setosa
2	4.7	3.2	1.3	0.2	setosa
3	4.6	3.1	1.5	0.2	setosa
4	5.0	3.6	1.4	0.2	setosa
iris.drop([1,2,3],axis=0)
Sepal.Length	Sepal.Width	Petal.Length	Petal.Width	Species
0	5.1	3.5	1.4	0.2	setosa
4	5.0	3.6	1.4	0.2	setosa
5	5.4	3.9	1.7	0.4	setosa
6	4.6	3.4	1.4	0.3	setosa
7	5.0	3.4	1.5	0.2	setosa
...	...	...	...	...	...
145	6.7	3.0	5.2	2.3	virginica
146	6.3	2.5	5.0	1.9	virginica
147	6.5	3.0	5.2	2.0	virginica
148	6.2	3.4	5.4	2.3	virginica
149	5.9	3.0	5.1	1.8	virginica
147 rows × 5 columns

iris.head()
Sepal.Length	Sepal.Width	Petal.Length	Petal.Width	Species
0	5.1	3.5	1.4	0.2	setosa
1	4.9	3.0	1.4	0.2	setosa
2	4.7	3.2	1.3	0.2	setosa
3	4.6	3.1	1.5	0.2	setosa
4	5.0	3.6	1.4	0.2	setosa
